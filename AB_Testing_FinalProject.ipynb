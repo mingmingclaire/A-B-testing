{
 "cells": [
  {
   "cell_type": "code",
   "execution_count": 19,
   "metadata": {
    "scrolled": true
   },
   "outputs": [
    {
     "name": "stdout",
     "output_type": "stream",
     "text": [
      "SD of GC:  0.0202\n",
      "SD of Retention:  0.0549\n",
      "SD of NC:  0.0156\n",
      "Size of GC: 645875.0\n",
      "Size of Retention: 4741212.121212121\n",
      "Size of NC: 685325.0\n",
      "Duration: 118.53030303030303\n",
      "New Duration: 17.133125\n",
      "Pageviews prob: 0.5006396668806133\n",
      "Clicks prob: 0.5004673474066628\n",
      "Pageviews SE: 0.0006\n",
      "Clicks SE: 0.0021\n",
      "Pageviews ME: 0.0012\n",
      "Clicks ME: 0.0041\n",
      "Pageviews Interval [ 0.4988, 0.5012 ]\n",
      "Clicks Interval [ 0.4959, 0.5041 ]\n",
      "Lower bound of Number of Cookies/Pageviews: 0.4988\n",
      "Upper bound of Number of Cookies/Pageviews: 0.5012\n",
      "Lower bound of Number of Clicks: 0.4959\n",
      "Upper bound of Number of Clicks: 0.5041\n",
      "0.08212581357457682\n",
      "0.08218244066616376\n",
      "5.662709158693602e-05\n",
      "0.0006610610775037591\n",
      "CTP Interval [ -0.0013, 0.0013 ]\n",
      "------------------  -------  ----------\n",
      "/                   Control  Experiment\n",
      "Clicks              17293    17260\n",
      "Enrollments         3785     3423\n",
      "Payments            2033     1945\n",
      "Probability_GC      0.21887  0.19831\n",
      "Probability_NC      0.11756  0.11268\n",
      "Pooled_Probability  0.2086   0.11512\n",
      "------------------  -------  ----------\n",
      "GC Interval [ 0.01922315770127676, 0.021976842298723254 ]\n"
     ]
    }
   ],
   "source": [
    "\"\"\"\n",
    "Udacity Final Project\n",
    "\"\"\"\n",
    "import math\n",
    "from tabulate import tabulate\n",
    "# Given data\n",
    "# Unique cookies to view course overview page per day\n",
    "n_pageviews_perday = 40000\n",
    "# Unique cookies to click \"Start free trial\" per day\n",
    "n_clicks_perday = 3200\n",
    "# Enrollments per day\n",
    "enrollments_perday = 660\n",
    "# Click-through-probability on \"Start free trial\"\n",
    "ctp = 0.08\n",
    "# Probability of enrolling: enroll/click\n",
    "gross_conversion = 0.20625\n",
    "# Probability of payment: payment/enroll\n",
    "retention = 0.53\n",
    "# Probability of payment: payment/click\n",
    "net_conversion = 0.1093125\n",
    "# Number of cookies visiting the course overview page\n",
    "n_sample = 5000\n"
   ]
  },
  {
   "cell_type": "markdown",
   "metadata": {},
   "source": [
    "### Calculate Standard Deviation"
   ]
  },
  {
   "cell_type": "code",
   "execution_count": null,
   "metadata": {},
   "outputs": [],
   "source": [
    "# gross_conversion\n",
    "std_gross_conversion=math.sqrt(gross_conversion*(1-gross_conversion)/(n_clicks_perday/n_pageviews_perday * n_sample))\n",
    "# retention\n",
    "std_retention=math.sqrt(retention*(1-retention)/(enrollments_perday/n_pageviews_perday*n_sample))\n",
    "# net_conversion\n",
    "std_net_conversion=math.sqrt(net_conversion*(1-net_conversion)/(n_clicks_perday/n_pageviews_perday*n_sample))\n",
    "print(\"SD of GC: \", round(std_gross_conversion, 4))\n",
    "print(\"SD of Retention: \", round(std_retention, 4))\n",
    "print(\"SD of NC: \", round(std_net_conversion, 4))"
   ]
  },
  {
   "cell_type": "markdown",
   "metadata": {},
   "source": [
    "### Sizing"
   ]
  },
  {
   "cell_type": "code",
   "execution_count": null,
   "metadata": {},
   "outputs": [],
   "source": [
    "# Using Sample Size Calculator https://www.evanmiller.org/ab-testing/sample-size.html\n",
    "# Baseline conversion rate is the probability\n",
    "# Minimum Detectable Effect is 1%\n",
    "\n",
    "# Gross Conversion_sample size_per group = 25835\n",
    "print(\"Size of GC:\", 25835 * 2 / ctp)\n",
    "# Retention_sample size_per group = 39115\n",
    "print(\"Size of Retention:\", 39115 * 2 / (enrollments_perday / n_pageviews_perday))\n",
    "size = 39115 * 2 / (enrollments_perday / n_pageviews_perday)\n",
    "# Net Conversion_sample size_per group = 27413\n",
    "print(\"Size of NC:\", 27413 * 2 / ctp)\n",
    "# Take the maximum number as the sample size of the experiment, 4741212\n",
    "size1 = 27413 * 2 / ctp\n",
    "# Duration and exposure\n",
    "print(\"Duration:\", size / n_pageviews_perday) # 119 days, too long\n",
    "print(\"New Duration:\", size1 / n_pageviews_perday) # 17 days"
   ]
  },
  {
   "cell_type": "markdown",
   "metadata": {},
   "source": [
    "### Sanity Check"
   ]
  },
  {
   "cell_type": "code",
   "execution_count": null,
   "metadata": {},
   "outputs": [],
   "source": [
    "# Sum of Pageviews in Control group, 345543\n",
    "# Sum of Clicks in Control group, 28378\n",
    "# Sum of Pageviews in Experiment group, 344660\n",
    "# Sum of Clicks in Experiment group, 28325\n",
    "# Probability of Control/Total\n",
    "prob_p = 345543 / (345543 + 344660)\n",
    "print(\"Pageviews prob:\", prob_p) # around 0.5, which represents invariance\n",
    "prob_c = 28378 / (28378 + 28325)\n",
    "print(\"Clicks prob:\", prob_c) # around 0.5\n",
    "# Standard Error\n",
    "se_p = round(math.sqrt(0.5 * (1 - 0.5) / (345543 + 344660)), 4)\n",
    "se_c = round(math.sqrt(0.5 * (1 - 0.5) / (28378 + 28325)), 4)\n",
    "print(\"Pageviews SE:\", se_p)\n",
    "print(\"Clicks SE:\", se_c)\n",
    "# Margin of Error\n",
    "me_p = round(1.96 * se_p, 4)\n",
    "me_c = round(1.96 * se_c, 4)\n",
    "print(\"Pageviews ME:\", me_p)\n",
    "print(\"Clicks ME:\", me_c)\n",
    "# Lower and Upper bounds\n",
    "print(f\"Pageviews Interval [ {0.5- me_p}, {0.5 + me_p} ]\" )\n",
    "print(f\"Clicks Interval [ {0.5 - me_c}, {0.5 + me_c} ]\")\n",
    "print(\"Lower bound of Number of Cookies/Pageviews:\", 0.5 - me_p)\n",
    "print(\"Upper bound of Number of Cookies/Pageviews:\", 0.5 + me_p)\n",
    "\n",
    "print(\"Lower bound of Number of Clicks:\", 0.5 - me_c)\n",
    "print(\"Upper bound of Number of Clicks:\", 0.5 + me_c)\n",
    "\n",
    "# Difference of Click-through-probability between two groups\n",
    "ctp_con = 28378 / 345543\n",
    "ctp_exp = 28325 / 344660\n",
    "p_diff = abs(ctp_con - ctp_exp)\n",
    "p_exp = 0 # Expect to be zero to pass sanity test of CTP\n",
    "print(ctp_con)\n",
    "print(ctp_exp)\n",
    "print(p_diff)\n",
    "se_ctp = math.sqrt(ctp_con * (1 - ctp_con) / 345543 + ctp_exp * (1 - ctp_exp) / 344660)\n",
    "print(se_ctp)\n",
    "me_ctp = round(1.96 * se_ctp, 4)\n",
    "print(f\"CTP Interval [ {0 - me_ctp}, {0 + me_ctp} ]\")\n"
   ]
  },
  {
   "cell_type": "markdown",
   "metadata": {},
   "source": [
    "### Effect Size Tests"
   ]
  },
  {
   "cell_type": "code",
   "execution_count": 27,
   "metadata": {},
   "outputs": [
    {
     "name": "stdout",
     "output_type": "stream",
     "text": [
      "------------------  -------  ----------\n",
      "/                   Control  Experiment\n",
      "Clicks              17293    17260\n",
      "Enrollments         3785     3423\n",
      "Payments            2033     1945\n",
      "Probability_GC      0.21887  0.19831\n",
      "Probability_NC      0.11756  0.11268\n",
      "Pooled_Probability  0.2086   0.11512\n",
      "------------------  -------  ----------\n",
      "GC Interval [ -0.029168483755042843, -0.012031516244957172 ]\n",
      "Statistically significant is True as CI does not include 0.\n",
      "Practically significant is True as CI does not include practical significance boundary.\n"
     ]
    }
   ],
   "source": [
    "# Reorganize the data\n",
    "table = [['/' , 'Control', 'Experiment'], ['Clicks', 17293, 17260], ['Enrollments', 3785, 3423], ['Payments', 2033, 1945],\n",
    "         ['Probability_GC', 0.21887, 0.19831], ['Probability_NC', 0.11756, 0.11268], ['Pooled_Probability', 0.20860, 0.11512],\n",
    "         #['Standard Error', gc_se_con, gc_se_exp]\n",
    "        ]\n",
    "print(tabulate(table))\n",
    "\n",
    "# Gross Conversion, enroll/click\n",
    "d_min = 0.01\n",
    "gc_con = 0.2189  # observed\n",
    "gc_exp = 0.1983\n",
    "gc_diff = gc_exp - gc_con\n",
    "p_pool = (3785 + 3423) / (17293 + 17260)\n",
    "gc_se_pool = math.sqrt(p_pool * (1 - p_pool) * (1/17293 + 1/17260)) # Be careful of the formula! \n",
    "gc_me = gc_se_pool * 1.96\n",
    "print(f\"GC Interval [ {gc_diff - gc_me}, {gc_diff + gc_me} ]\")\n",
    "print(f\"Statistically significant is {gc_diff + gc_me < 0 or gc_diff - gc_me > 0} as CI does not include 0.\")\n",
    "print(f\"Practically significant is {gc_diff + gc_me < d_min or gc_diff - gc_me > d_min} as CI does not include practical significance boundary.\" )\n"
   ]
  },
  {
   "cell_type": "code",
   "execution_count": 33,
   "metadata": {},
   "outputs": [
    {
     "name": "stdout",
     "output_type": "stream",
     "text": [
      "RT Interval [ 0.008104435728019967, 0.05408517368626556 ]\n",
      "Statistically significant is True as CI does not include 0.\n",
      "Practically significant is False as CI includes practical significance boundary.\n"
     ]
    }
   ],
   "source": [
    "# Retention, payment/enroll\n",
    "\n",
    "d_min = 0.01\n",
    "rt_con = 2033/3785\n",
    "rt_exp = 1945/3423\n",
    "rt_diff = rt_exp - rt_con\n",
    "p_pool_retention = (2033 + 1945) / (3785 + 3423)\n",
    "rt_se_pool = math.sqrt(p_pool_retention * (1 - p_pool_retention) * (1/3785 + 1/3423))\n",
    "rt_me = rt_se_pool * 1.96\n",
    "print(f\"RT Interval [ {rt_diff - rt_me}, {rt_diff + rt_me} ]\")\n",
    "print(f\"Statistically significant is {rt_diff + rt_me < 0 or rt_diff - rt_me > 0} as CI does not include 0.\")\n",
    "print(f\"Practically significant is {rt_diff - rt_me > d_min} as CI includes practical significance boundary.\" )\n"
   ]
  },
  {
   "cell_type": "code",
   "execution_count": 34,
   "metadata": {},
   "outputs": [
    {
     "name": "stdout",
     "output_type": "stream",
     "text": [
      "RT Interval [ -0.011604624359891718, 0.001857179010803383 ]\n",
      "Statistically significant is False as CI does not include 0.\n",
      "Practically significant is False as CI includes practical significance boundary.\n"
     ]
    }
   ],
   "source": [
    "# Net conversion, payment/click\n",
    "\n",
    "d_min = 0.0075\n",
    "nc_con = 2033/17293\n",
    "nc_exp = 1945/17260\n",
    "nc_diff = nc_exp - nc_con\n",
    "p_pool_nc = (2033 + 1945) / (17293 + 17260)\n",
    "nc_se_pool = math.sqrt(p_pool_nc * (1 - p_pool_nc) * (1/17293 + 1/17260))\n",
    "nc_me = nc_se_pool * 1.96\n",
    "print(f\"RT Interval [ {nc_diff - nc_me}, {nc_diff + nc_me} ]\")\n",
    "print(f\"Statistically significant is {nc_diff + nc_me < 0 or nc_diff - nc_me > 0} as CI does not include 0.\")\n",
    "print(f\"Practically significant is {nc_diff - nc_me > d_min} as CI includes practical significance boundary.\" )\n"
   ]
  },
  {
   "cell_type": "markdown",
   "metadata": {},
   "source": [
    "### Effect Size Tests"
   ]
  },
  {
   "cell_type": "code",
   "execution_count": null,
   "metadata": {},
   "outputs": [],
   "source": [
    "from scipy.stats import binom_test\n",
    "\n",
    "# Gross Conversion\n",
    "alpha = 0.05\n",
    "beta = 0.2\n",
    "p = 0.5\n",
    "\n",
    "# Calculate the differences of gc rate (enroll/clicks) \n",
    "# Count the number of positive differences, 4/23\n",
    "# Use Sign and binomial test https://www.graphpad.com/quickcalcs/binomial2/\n",
    "# two-tail P value is 0.0026\n",
    "# As p value is smaller than alpha, it's statistically significant."
   ]
  },
  {
   "cell_type": "code",
   "execution_count": 35,
   "metadata": {},
   "outputs": [
    {
     "name": "stdout",
     "output_type": "stream",
     "text": [
      "[('Java', 14), ('Python', 3), ('JavaScript', 6)]\n"
     ]
    }
   ],
   "source": [
    "# Retention\n",
    "alpha = 0.05\n",
    "beta = 0.2\n",
    "p = 0.5\n",
    "\n",
    "# Calculate the differences of retention rate (payment/enroll) \n",
    "# Count the number of positive differences, 13/23\n",
    "# Use Sign and binomial test https://www.graphpad.com/quickcalcs/binomial2/\n",
    "# two-tail P value is 0.6776\n",
    "# As p value is greater than alpha, it's NOT statistically significant."
   ]
  },
  {
   "cell_type": "code",
   "execution_count": null,
   "metadata": {},
   "outputs": [],
   "source": [
    "# Net conversion, payment/click\n",
    "alpha = 0.05\n",
    "beta = 0.2\n",
    "p = 0.5\n",
    "\n",
    "# Calculate the differences of net conversion rate (payment/click) \n",
    "# Count the number of positive differences, 10/23\n",
    "# Use Sign and binomial test https://www.graphpad.com/quickcalcs/binomial2/\n",
    "# two-tail P value is 0.6776\n",
    "# As p value is greater than alpha, it's NOT statistically significant."
   ]
  }
 ],
 "metadata": {
  "kernelspec": {
   "display_name": "Python 3",
   "language": "python",
   "name": "python3"
  },
  "language_info": {
   "codemirror_mode": {
    "name": "ipython",
    "version": 3
   },
   "file_extension": ".py",
   "mimetype": "text/x-python",
   "name": "python",
   "nbconvert_exporter": "python",
   "pygments_lexer": "ipython3",
   "version": "3.8.5"
  }
 },
 "nbformat": 4,
 "nbformat_minor": 4
}
